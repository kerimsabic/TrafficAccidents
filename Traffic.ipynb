{
 "cells": [
  {
   "cell_type": "code",
   "execution_count": null,
   "id": "0be0ca13",
   "metadata": {},
   "outputs": [],
   "source": []
  },
  {
   "cell_type": "code",
   "execution_count": 1,
   "id": "33435b0a",
   "metadata": {},
   "outputs": [
    {
     "name": "stdout",
     "output_type": "stream",
     "text": [
      "Requirement already satisfied: kagglehub in d:\\nlp anaconda\\lib\\site-packages (0.3.10)\n",
      "Requirement already satisfied: packaging in d:\\nlp anaconda\\lib\\site-packages (from kagglehub) (23.1)\n",
      "Requirement already satisfied: pyyaml in d:\\nlp anaconda\\lib\\site-packages (from kagglehub) (6.0)\n",
      "Requirement already satisfied: requests in d:\\nlp anaconda\\lib\\site-packages (from kagglehub) (2.31.0)\n",
      "Requirement already satisfied: tqdm in d:\\nlp anaconda\\lib\\site-packages (from kagglehub) (4.65.0)\n",
      "Requirement already satisfied: charset-normalizer<4,>=2 in d:\\nlp anaconda\\lib\\site-packages (from requests->kagglehub) (2.0.4)\n",
      "Requirement already satisfied: idna<4,>=2.5 in d:\\nlp anaconda\\lib\\site-packages (from requests->kagglehub) (3.4)\n",
      "Requirement already satisfied: urllib3<3,>=1.21.1 in d:\\nlp anaconda\\lib\\site-packages (from requests->kagglehub) (1.26.16)\n",
      "Requirement already satisfied: certifi>=2017.4.17 in d:\\nlp anaconda\\lib\\site-packages (from requests->kagglehub) (2023.11.17)\n",
      "Requirement already satisfied: colorama in d:\\nlp anaconda\\lib\\site-packages (from tqdm->kagglehub) (0.4.6)\n",
      "Note: you may need to restart the kernel to use updated packages.\n"
     ]
    }
   ],
   "source": [
    "pip install kagglehub"
   ]
  },
  {
   "cell_type": "code",
   "execution_count": null,
   "id": "13e563f7",
   "metadata": {},
   "outputs": [],
   "source": []
  },
  {
   "cell_type": "code",
   "execution_count": 2,
   "id": "5c426a5a",
   "metadata": {},
   "outputs": [],
   "source": [
    "import pandas as pd\n",
    "import numpy as np\n",
    "import matplotlib.pyplot as plt\n",
    "import seaborn as sns"
   ]
  },
  {
   "cell_type": "code",
   "execution_count": 3,
   "id": "b45de069",
   "metadata": {},
   "outputs": [
    {
     "name": "stdout",
     "output_type": "stream",
     "text": [
      "First 5 rows of the dataset:\n",
      "       Time Day_of_week Age_band_of_driver Sex_of_driver   Educational_level  \\\n",
      "0  17:02:00      Monday              18-30          Male   Above high school   \n",
      "1  17:02:00      Monday              31-50          Male  Junior high school   \n",
      "2  17:02:00      Monday              18-30          Male  Junior high school   \n",
      "3   1:06:00      Sunday              18-30          Male  Junior high school   \n",
      "4   1:06:00      Sunday              18-30          Male  Junior high school   \n",
      "\n",
      "  Vehicle_driver_relation Driving_experience      Type_of_vehicle  \\\n",
      "0                Employee              1-2yr           Automobile   \n",
      "1                Employee         Above 10yr  Public (> 45 seats)   \n",
      "2                Employee              1-2yr      Lorry (41?100Q)   \n",
      "3                Employee             5-10yr  Public (> 45 seats)   \n",
      "4                Employee              2-5yr                  NaN   \n",
      "\n",
      "  Owner_of_vehicle Service_year_of_vehicle  ... Vehicle_movement  \\\n",
      "0            Owner              Above 10yr  ...   Going straight   \n",
      "1            Owner                 5-10yrs  ...   Going straight   \n",
      "2            Owner                     NaN  ...   Going straight   \n",
      "3     Governmental                     NaN  ...   Going straight   \n",
      "4            Owner                 5-10yrs  ...   Going straight   \n",
      "\n",
      "    Casualty_class Sex_of_casualty Age_band_of_casualty Casualty_severity  \\\n",
      "0               na              na                   na                na   \n",
      "1               na              na                   na                na   \n",
      "2  Driver or rider            Male                31-50                 3   \n",
      "3       Pedestrian          Female                18-30                 3   \n",
      "4               na              na                   na                na   \n",
      "\n",
      "  Work_of_casuality Fitness_of_casuality Pedestrian_movement  \\\n",
      "0               NaN                  NaN    Not a Pedestrian   \n",
      "1               NaN                  NaN    Not a Pedestrian   \n",
      "2            Driver                  NaN    Not a Pedestrian   \n",
      "3            Driver               Normal    Not a Pedestrian   \n",
      "4               NaN                  NaN    Not a Pedestrian   \n",
      "\n",
      "            Cause_of_accident Accident_severity  \n",
      "0             Moving Backward     Slight Injury  \n",
      "1                  Overtaking     Slight Injury  \n",
      "2   Changing lane to the left    Serious Injury  \n",
      "3  Changing lane to the right     Slight Injury  \n",
      "4                  Overtaking     Slight Injury  \n",
      "\n",
      "[5 rows x 32 columns]\n"
     ]
    }
   ],
   "source": [
    "df = pd.read_csv('C:/Users/kerim/.cache/kagglehub/datasets/saurabhshahane/road-traffic-accidents/versions/3/RTA Dataset.csv')  # Replace backslashes with forward slashes\n",
    "\n",
    "# Display the first few rows of the dataset\n",
    "print(\"First 5 rows of the dataset:\")\n",
    "print(df.head())"
   ]
  },
  {
   "cell_type": "code",
   "execution_count": 4,
   "id": "45376f3f",
   "metadata": {},
   "outputs": [
    {
     "name": "stdout",
     "output_type": "stream",
     "text": [
      "\n",
      "Dataset Information:\n",
      "<class 'pandas.core.frame.DataFrame'>\n",
      "RangeIndex: 12316 entries, 0 to 12315\n",
      "Data columns (total 32 columns):\n",
      " #   Column                       Non-Null Count  Dtype \n",
      "---  ------                       --------------  ----- \n",
      " 0   Time                         12316 non-null  object\n",
      " 1   Day_of_week                  12316 non-null  object\n",
      " 2   Age_band_of_driver           12316 non-null  object\n",
      " 3   Sex_of_driver                12316 non-null  object\n",
      " 4   Educational_level            11575 non-null  object\n",
      " 5   Vehicle_driver_relation      11737 non-null  object\n",
      " 6   Driving_experience           11487 non-null  object\n",
      " 7   Type_of_vehicle              11366 non-null  object\n",
      " 8   Owner_of_vehicle             11834 non-null  object\n",
      " 9   Service_year_of_vehicle      8388 non-null   object\n",
      " 10  Defect_of_vehicle            7889 non-null   object\n",
      " 11  Area_accident_occured        12077 non-null  object\n",
      " 12  Lanes_or_Medians             11931 non-null  object\n",
      " 13  Road_allignment              12174 non-null  object\n",
      " 14  Types_of_Junction            11429 non-null  object\n",
      " 15  Road_surface_type            12144 non-null  object\n",
      " 16  Road_surface_conditions      12316 non-null  object\n",
      " 17  Light_conditions             12316 non-null  object\n",
      " 18  Weather_conditions           12316 non-null  object\n",
      " 19  Type_of_collision            12161 non-null  object\n",
      " 20  Number_of_vehicles_involved  12316 non-null  int64 \n",
      " 21  Number_of_casualties         12316 non-null  int64 \n",
      " 22  Vehicle_movement             12008 non-null  object\n",
      " 23  Casualty_class               12316 non-null  object\n",
      " 24  Sex_of_casualty              12316 non-null  object\n",
      " 25  Age_band_of_casualty         12316 non-null  object\n",
      " 26  Casualty_severity            12316 non-null  object\n",
      " 27  Work_of_casuality            9118 non-null   object\n",
      " 28  Fitness_of_casuality         9681 non-null   object\n",
      " 29  Pedestrian_movement          12316 non-null  object\n",
      " 30  Cause_of_accident            12316 non-null  object\n",
      " 31  Accident_severity            12316 non-null  object\n",
      "dtypes: int64(2), object(30)\n",
      "memory usage: 3.0+ MB\n",
      "None\n"
     ]
    }
   ],
   "source": [
    "print(\"\\nDataset Information:\")\n",
    "print(df.info())"
   ]
  },
  {
   "cell_type": "code",
   "execution_count": 44,
   "id": "e242062f",
   "metadata": {},
   "outputs": [
    {
     "name": "stdout",
     "output_type": "stream",
     "text": [
      "\n",
      "Summary Statistics:\n",
      "       Day_of_week Age_band_of_driver Sex_of_driver   Educational_level  \\\n",
      "count        12316              12316         12316               12316   \n",
      "unique           7                  5             3                   7   \n",
      "top         Friday              18-30          Male  Junior high school   \n",
      "freq          2041               4271         11437                8360   \n",
      "\n",
      "       Vehicle_driver_relation Driving_experience Type_of_vehicle  \\\n",
      "count                    12316              12316           12316   \n",
      "unique                       4                  7              17   \n",
      "top                   Employee             5-10yr      Automobile   \n",
      "freq                     10206               4192            4155   \n",
      "\n",
      "       Owner_of_vehicle Service_year_of_vehicle Defect_of_vehicle  ...  \\\n",
      "count             12316                   12316             12316  ...   \n",
      "unique                4                       6                 3  ...   \n",
      "top               Owner                 Unknown         No defect  ...   \n",
      "freq              10941                    6811             12204  ...   \n",
      "\n",
      "       Vehicle_movement   Casualty_class Sex_of_casualty Age_band_of_casualty  \\\n",
      "count             12316            12316           12316                12316   \n",
      "unique               13                4               3                    6   \n",
      "top      Going straight  Driver or rider            Male                   na   \n",
      "freq               8466             4944            5253                 4443   \n",
      "\n",
      "       Casualty_severity Work_of_casuality Fitness_of_casuality  \\\n",
      "count              12316             12316                12316   \n",
      "unique                 4                 7                    5   \n",
      "top                    3            Driver               Normal   \n",
      "freq                7076              9101                12243   \n",
      "\n",
      "       Pedestrian_movement Cause_of_accident Accident_severity  \n",
      "count                12316             12316             12316  \n",
      "unique                   9                20                 3  \n",
      "top       Not a Pedestrian     No distancing     Slight Injury  \n",
      "freq                 11390              2263             10415  \n",
      "\n",
      "[4 rows x 29 columns]\n"
     ]
    }
   ],
   "source": [
    "print(\"\\nSummary Statistics:\")\n",
    "print(df.describe(include='object'))"
   ]
  },
  {
   "cell_type": "code",
   "execution_count": 43,
   "id": "130bef8e",
   "metadata": {},
   "outputs": [
    {
     "data": {
      "text/html": [
       "<div>\n",
       "<style scoped>\n",
       "    .dataframe tbody tr th:only-of-type {\n",
       "        vertical-align: middle;\n",
       "    }\n",
       "\n",
       "    .dataframe tbody tr th {\n",
       "        vertical-align: top;\n",
       "    }\n",
       "\n",
       "    .dataframe thead th {\n",
       "        text-align: right;\n",
       "    }\n",
       "</style>\n",
       "<table border=\"1\" class=\"dataframe\">\n",
       "  <thead>\n",
       "    <tr style=\"text-align: right;\">\n",
       "      <th></th>\n",
       "      <th>Day_of_week</th>\n",
       "      <th>Age_band_of_driver</th>\n",
       "      <th>Sex_of_driver</th>\n",
       "      <th>Educational_level</th>\n",
       "      <th>Vehicle_driver_relation</th>\n",
       "      <th>Driving_experience</th>\n",
       "      <th>Type_of_vehicle</th>\n",
       "      <th>Owner_of_vehicle</th>\n",
       "      <th>Service_year_of_vehicle</th>\n",
       "      <th>Defect_of_vehicle</th>\n",
       "      <th>...</th>\n",
       "      <th>Vehicle_movement</th>\n",
       "      <th>Casualty_class</th>\n",
       "      <th>Sex_of_casualty</th>\n",
       "      <th>Age_band_of_casualty</th>\n",
       "      <th>Casualty_severity</th>\n",
       "      <th>Work_of_casuality</th>\n",
       "      <th>Fitness_of_casuality</th>\n",
       "      <th>Pedestrian_movement</th>\n",
       "      <th>Cause_of_accident</th>\n",
       "      <th>Accident_severity</th>\n",
       "    </tr>\n",
       "  </thead>\n",
       "  <tbody>\n",
       "    <tr>\n",
       "      <th>count</th>\n",
       "      <td>12316</td>\n",
       "      <td>12316</td>\n",
       "      <td>12316</td>\n",
       "      <td>12316</td>\n",
       "      <td>12316</td>\n",
       "      <td>12316</td>\n",
       "      <td>12316</td>\n",
       "      <td>12316</td>\n",
       "      <td>12316</td>\n",
       "      <td>12316</td>\n",
       "      <td>...</td>\n",
       "      <td>12316</td>\n",
       "      <td>12316</td>\n",
       "      <td>12316</td>\n",
       "      <td>12316</td>\n",
       "      <td>12316</td>\n",
       "      <td>12316</td>\n",
       "      <td>12316</td>\n",
       "      <td>12316</td>\n",
       "      <td>12316</td>\n",
       "      <td>12316</td>\n",
       "    </tr>\n",
       "    <tr>\n",
       "      <th>unique</th>\n",
       "      <td>7</td>\n",
       "      <td>5</td>\n",
       "      <td>3</td>\n",
       "      <td>7</td>\n",
       "      <td>4</td>\n",
       "      <td>7</td>\n",
       "      <td>17</td>\n",
       "      <td>4</td>\n",
       "      <td>6</td>\n",
       "      <td>3</td>\n",
       "      <td>...</td>\n",
       "      <td>13</td>\n",
       "      <td>4</td>\n",
       "      <td>3</td>\n",
       "      <td>6</td>\n",
       "      <td>4</td>\n",
       "      <td>7</td>\n",
       "      <td>5</td>\n",
       "      <td>9</td>\n",
       "      <td>20</td>\n",
       "      <td>3</td>\n",
       "    </tr>\n",
       "    <tr>\n",
       "      <th>top</th>\n",
       "      <td>Friday</td>\n",
       "      <td>18-30</td>\n",
       "      <td>Male</td>\n",
       "      <td>Junior high school</td>\n",
       "      <td>Employee</td>\n",
       "      <td>5-10yr</td>\n",
       "      <td>Automobile</td>\n",
       "      <td>Owner</td>\n",
       "      <td>Unknown</td>\n",
       "      <td>No defect</td>\n",
       "      <td>...</td>\n",
       "      <td>Going straight</td>\n",
       "      <td>Driver or rider</td>\n",
       "      <td>Male</td>\n",
       "      <td>na</td>\n",
       "      <td>3</td>\n",
       "      <td>Driver</td>\n",
       "      <td>Normal</td>\n",
       "      <td>Not a Pedestrian</td>\n",
       "      <td>No distancing</td>\n",
       "      <td>Slight Injury</td>\n",
       "    </tr>\n",
       "    <tr>\n",
       "      <th>freq</th>\n",
       "      <td>2041</td>\n",
       "      <td>4271</td>\n",
       "      <td>11437</td>\n",
       "      <td>8360</td>\n",
       "      <td>10206</td>\n",
       "      <td>4192</td>\n",
       "      <td>4155</td>\n",
       "      <td>10941</td>\n",
       "      <td>6811</td>\n",
       "      <td>12204</td>\n",
       "      <td>...</td>\n",
       "      <td>8466</td>\n",
       "      <td>4944</td>\n",
       "      <td>5253</td>\n",
       "      <td>4443</td>\n",
       "      <td>7076</td>\n",
       "      <td>9101</td>\n",
       "      <td>12243</td>\n",
       "      <td>11390</td>\n",
       "      <td>2263</td>\n",
       "      <td>10415</td>\n",
       "    </tr>\n",
       "  </tbody>\n",
       "</table>\n",
       "<p>4 rows × 29 columns</p>\n",
       "</div>"
      ],
      "text/plain": [
       "       Day_of_week Age_band_of_driver Sex_of_driver   Educational_level  \\\n",
       "count        12316              12316         12316               12316   \n",
       "unique           7                  5             3                   7   \n",
       "top         Friday              18-30          Male  Junior high school   \n",
       "freq          2041               4271         11437                8360   \n",
       "\n",
       "       Vehicle_driver_relation Driving_experience Type_of_vehicle  \\\n",
       "count                    12316              12316           12316   \n",
       "unique                       4                  7              17   \n",
       "top                   Employee             5-10yr      Automobile   \n",
       "freq                     10206               4192            4155   \n",
       "\n",
       "       Owner_of_vehicle Service_year_of_vehicle Defect_of_vehicle  ...  \\\n",
       "count             12316                   12316             12316  ...   \n",
       "unique                4                       6                 3  ...   \n",
       "top               Owner                 Unknown         No defect  ...   \n",
       "freq              10941                    6811             12204  ...   \n",
       "\n",
       "       Vehicle_movement   Casualty_class Sex_of_casualty Age_band_of_casualty  \\\n",
       "count             12316            12316           12316                12316   \n",
       "unique               13                4               3                    6   \n",
       "top      Going straight  Driver or rider            Male                   na   \n",
       "freq               8466             4944            5253                 4443   \n",
       "\n",
       "       Casualty_severity Work_of_casuality Fitness_of_casuality  \\\n",
       "count              12316             12316                12316   \n",
       "unique                 4                 7                    5   \n",
       "top                    3            Driver               Normal   \n",
       "freq                7076              9101                12243   \n",
       "\n",
       "       Pedestrian_movement Cause_of_accident Accident_severity  \n",
       "count                12316             12316             12316  \n",
       "unique                   9                20                 3  \n",
       "top       Not a Pedestrian     No distancing     Slight Injury  \n",
       "freq                 11390              2263             10415  \n",
       "\n",
       "[4 rows x 29 columns]"
      ]
     },
     "execution_count": 43,
     "metadata": {},
     "output_type": "execute_result"
    }
   ],
   "source": [
    "# describe categorical columns\n",
    "df.describe(include='object')"
   ]
  },
  {
   "cell_type": "code",
   "execution_count": 6,
   "id": "8258d632",
   "metadata": {},
   "outputs": [
    {
     "name": "stdout",
     "output_type": "stream",
     "text": [
      "\n",
      "Missing Values:\n",
      "Time                              0\n",
      "Day_of_week                       0\n",
      "Age_band_of_driver                0\n",
      "Sex_of_driver                     0\n",
      "Educational_level               741\n",
      "Vehicle_driver_relation         579\n",
      "Driving_experience              829\n",
      "Type_of_vehicle                 950\n",
      "Owner_of_vehicle                482\n",
      "Service_year_of_vehicle        3928\n",
      "Defect_of_vehicle              4427\n",
      "Area_accident_occured           239\n",
      "Lanes_or_Medians                385\n",
      "Road_allignment                 142\n",
      "Types_of_Junction               887\n",
      "Road_surface_type               172\n",
      "Road_surface_conditions           0\n",
      "Light_conditions                  0\n",
      "Weather_conditions                0\n",
      "Type_of_collision               155\n",
      "Number_of_vehicles_involved       0\n",
      "Number_of_casualties              0\n",
      "Vehicle_movement                308\n",
      "Casualty_class                    0\n",
      "Sex_of_casualty                   0\n",
      "Age_band_of_casualty              0\n",
      "Casualty_severity                 0\n",
      "Work_of_casuality              3198\n",
      "Fitness_of_casuality           2635\n",
      "Pedestrian_movement               0\n",
      "Cause_of_accident                 0\n",
      "Accident_severity                 0\n",
      "dtype: int64\n",
      "\n",
      "Duplicate Rows:\n",
      "0\n",
      "\n",
      "Duplicate rows removed.\n"
     ]
    }
   ],
   "source": [
    "print(\"\\nMissing Values:\")\n",
    "print(df.isnull().sum())\n",
    "\n",
    "# Check for duplicate rows\n",
    "print(\"\\nDuplicate Rows:\")\n",
    "print(df.duplicated().sum())\n",
    "\n",
    "# Drop duplicate rows (if any)\n",
    "df = df.drop_duplicates()\n",
    "print(\"\\nDuplicate rows removed.\")"
   ]
  },
  {
   "cell_type": "code",
   "execution_count": 7,
   "id": "6d0bd321",
   "metadata": {},
   "outputs": [
    {
     "name": "stdout",
     "output_type": "stream",
     "text": [
      "\n",
      "Missing values handled.\n",
      "\n",
      "'Time' column converted to datetime format.\n",
      "\n",
      "'Hour' column added.\n"
     ]
    }
   ],
   "source": [
    "# Handle missing values (if any)\n",
    "# For numerical columns, fill missing values with the median\n",
    "numerical_columns = df.select_dtypes(include=['int64', 'float64']).columns\n",
    "df[numerical_columns] = df[numerical_columns].fillna(df[numerical_columns].median())\n",
    "\n",
    "# For categorical columns, fill missing values with the mode\n",
    "categorical_columns = df.select_dtypes(include=['object']).columns\n",
    "df[categorical_columns] = df[categorical_columns].fillna(df[categorical_columns].mode().iloc[0])\n",
    "\n",
    "print(\"\\nMissing values handled.\")\n",
    "\n",
    "# Convert 'Time' column to datetime format\n",
    "if 'Time' in df.columns:\n",
    "    df['Time'] = pd.to_datetime(df['Time'], format='%H:%M:%S', errors='coerce')  # Specify the correct format\n",
    "    print(\"\\n'Time' column converted to datetime format.\")\n",
    "\n",
    "# Add a new column for 'Hour' extracted from the 'Time' column\n",
    "if 'Time' in df.columns:\n",
    "    df['Hour'] = df['Time'].dt.hour\n",
    "    print(\"\\n'Hour' column added.\")"
   ]
  },
  {
   "cell_type": "code",
   "execution_count": 8,
   "id": "392b899c",
   "metadata": {},
   "outputs": [
    {
     "name": "stdout",
     "output_type": "stream",
     "text": [
      "\n",
      "'Time' column converted to datetime format.\n",
      "\n",
      "'Hour' column added.\n"
     ]
    }
   ],
   "source": [
    "# Convert 'Time' column to datetime format\n",
    "if 'Time' in df.columns:\n",
    "    df['Time'] = pd.to_datetime(df['Time'], format='%H:%M:%S', errors='coerce')  # Specify the correct format\n",
    "    print(\"\\n'Time' column converted to datetime format.\")\n",
    "\n",
    "# Add a new column for 'Hour' extracted from the 'Time' column\n",
    "if 'Time' in df.columns:\n",
    "    df['Hour'] = df['Time'].dt.hour\n",
    "    print(\"\\n'Hour' column added.\")\n"
   ]
  },
  {
   "cell_type": "code",
   "execution_count": 25,
   "id": "cbdf15b0",
   "metadata": {},
   "outputs": [
    {
     "name": "stdout",
     "output_type": "stream",
     "text": [
      "\n",
      "Number of accidents during peak hours (8 AM - 10 AM and 5 PM - 7 PM):\n",
      "4779\n"
     ]
    }
   ],
   "source": [
    "# Query 1: Accidents during peak hours (8 AM - 10 AM and 5 PM - 7 PM)\n",
    "peak_hours_accidents = df[(df['Hour'] >= 8) & (df['Hour'] <= 10) | (df['Hour'] >= 17) & (df['Hour'] <= 19)]\n",
    "print(\"\\nNumber of accidents during peak hours (8 AM - 10 AM and 5 PM - 7 PM):\")\n",
    "print(peak_hours_accidents.shape[0])"
   ]
  },
  {
   "cell_type": "code",
   "execution_count": 32,
   "id": "5ba08978",
   "metadata": {},
   "outputs": [
    {
     "name": "stdout",
     "output_type": "stream",
     "text": [
      "\n",
      "Number of accidents on weekends (Saturday and Sunday):\n",
      "3133\n"
     ]
    }
   ],
   "source": [
    "# Query 2: Accidents on weekends (Saturday and Sunday)\n",
    "if 'Day_of_week' in df.columns:\n",
    "    weekend_accidents = df[df['Day_of_week'].isin(['Saturday', 'Sunday'])]\n",
    "    print(\"\\nNumber of accidents on weekends (Saturday and Sunday):\")\n",
    "    print(weekend_accidents.shape[0])\n"
   ]
  },
  {
   "cell_type": "code",
   "execution_count": 33,
   "id": "6bc7a542",
   "metadata": {},
   "outputs": [
    {
     "name": "stdout",
     "output_type": "stream",
     "text": [
      "\n",
      "Number of accidents in adverse weather conditions (Rain, Fog, Snow):\n",
      "61\n"
     ]
    }
   ],
   "source": [
    "# Query 3: Accidents in adverse weather conditions (Rain, Fog, Snow)\n",
    "if 'Weather_conditions' in df.columns:\n",
    "    adverse_weather_accidents = df[df['Weather_conditions'].isin(['Rain', 'Fog', 'Snow'])]\n",
    "    print(\"\\nNumber of accidents in adverse weather conditions (Rain, Fog, Snow):\")\n",
    "    print(adverse_weather_accidents.shape[0])"
   ]
  },
  {
   "cell_type": "code",
   "execution_count": 47,
   "id": "a34795f9",
   "metadata": {},
   "outputs": [
    {
     "name": "stdout",
     "output_type": "stream",
     "text": [
      "\n",
      "Number of high-severity accidents (Severity = 3):\n",
      "0\n"
     ]
    }
   ],
   "source": [
    "# Query 4: Accidents with high severity (Severity = 3)\n",
    "if 'Accident_severity' in df.columns:\n",
    "    high_severity_accidents = df[df['Accident_severity'] == 3]\n",
    "    print(\"\\nNumber of high-severity accidents (Severity = 3):\")\n",
    "    print(high_severity_accidents.shape[0])"
   ]
  },
  {
   "cell_type": "code",
   "execution_count": 46,
   "id": "2098bc83",
   "metadata": {},
   "outputs": [
    {
     "data": {
      "text/html": [
       "<div>\n",
       "<style scoped>\n",
       "    .dataframe tbody tr th:only-of-type {\n",
       "        vertical-align: middle;\n",
       "    }\n",
       "\n",
       "    .dataframe tbody tr th {\n",
       "        vertical-align: top;\n",
       "    }\n",
       "\n",
       "    .dataframe thead th {\n",
       "        text-align: right;\n",
       "    }\n",
       "</style>\n",
       "<table border=\"1\" class=\"dataframe\">\n",
       "  <thead>\n",
       "    <tr style=\"text-align: right;\">\n",
       "      <th></th>\n",
       "      <th>Accident_severity</th>\n",
       "      <th>Type_of_collision</th>\n",
       "      <th>Time</th>\n",
       "      <th>sum</th>\n",
       "      <th>ratio</th>\n",
       "    </tr>\n",
       "  </thead>\n",
       "  <tbody>\n",
       "    <tr>\n",
       "      <th>3</th>\n",
       "      <td>Fatal injury</td>\n",
       "      <td>Rollover</td>\n",
       "      <td>4</td>\n",
       "      <td>397</td>\n",
       "      <td>0.010076</td>\n",
       "    </tr>\n",
       "    <tr>\n",
       "      <th>0</th>\n",
       "      <td>Fatal injury</td>\n",
       "      <td>Collision with animals</td>\n",
       "      <td>2</td>\n",
       "      <td>171</td>\n",
       "      <td>0.011696</td>\n",
       "    </tr>\n",
       "    <tr>\n",
       "      <th>4</th>\n",
       "      <td>Fatal injury</td>\n",
       "      <td>Vehicle with vehicle collision</td>\n",
       "      <td>106</td>\n",
       "      <td>8929</td>\n",
       "      <td>0.011871</td>\n",
       "    </tr>\n",
       "    <tr>\n",
       "      <th>2</th>\n",
       "      <td>Fatal injury</td>\n",
       "      <td>Collision with roadside objects</td>\n",
       "      <td>24</td>\n",
       "      <td>1786</td>\n",
       "      <td>0.013438</td>\n",
       "    </tr>\n",
       "    <tr>\n",
       "      <th>1</th>\n",
       "      <td>Fatal injury</td>\n",
       "      <td>Collision with pedestrians</td>\n",
       "      <td>22</td>\n",
       "      <td>896</td>\n",
       "      <td>0.024554</td>\n",
       "    </tr>\n",
       "  </tbody>\n",
       "</table>\n",
       "</div>"
      ],
      "text/plain": [
       "  Accident_severity                Type_of_collision  Time   sum     ratio\n",
       "3      Fatal injury                         Rollover     4   397  0.010076\n",
       "0      Fatal injury           Collision with animals     2   171  0.011696\n",
       "4      Fatal injury   Vehicle with vehicle collision   106  8929  0.011871\n",
       "2      Fatal injury  Collision with roadside objects    24  1786  0.013438\n",
       "1      Fatal injury       Collision with pedestrians    22   896  0.024554"
      ]
     },
     "execution_count": 46,
     "metadata": {},
     "output_type": "execute_result"
    }
   ],
   "source": [
    "def fatality_df(column, df=df, sort=False):\n",
    "    \"\"\"\n",
    "    fetches a dataframe having category wise fatality frequency\n",
    "    \"\"\"\n",
    "# finding out the relationship between Accident severity and a column\n",
    "    df_hello = df.groupby(['Accident_severity', column]).Time.count().reset_index()\n",
    "\n",
    "    # creating a list of all categories to plot\n",
    "    rowlist = [row for row in df_hello[column]]\n",
    "    sumlist = []\n",
    "    for row in rowlist:\n",
    "        sumlist.append(df_hello.loc[df_hello[column] == row].Time.sum())\n",
    "\n",
    "    df_hello['sum'] = sumlist\n",
    "    df_hello['ratio'] = df_hello['Time']/df_hello['sum']\n",
    "    df_final = df_hello.loc[df_hello.Accident_severity=='Fatal injury']\n",
    "    if sort==True:\n",
    "        df_final = df_final.sort_values(by='ratio')\n",
    "    return df_final\n",
    "\n",
    "# example\n",
    "fatal_collisiontype_df = fatality_df('Type_of_collision', sort=True)\n",
    "fatal_collisiontype_df"
   ]
  },
  {
   "cell_type": "code",
   "execution_count": 45,
   "id": "183da44c",
   "metadata": {},
   "outputs": [],
   "source": [
    "# Query 5: Accidents on highways\n",
    "if 'Road_type' in df.columns:\n",
    "    highway_accidents = df[df['Road_type'] == 'Highway']\n",
    "    print(\"\\nNumber of accidents on highways:\")\n",
    "    print(highway_accidents.shape[0])"
   ]
  },
  {
   "cell_type": "code",
   "execution_count": 36,
   "id": "c126e8f7",
   "metadata": {},
   "outputs": [
    {
     "name": "stdout",
     "output_type": "stream",
     "text": [
      "\n",
      "Accident with the highest number of casualties:\n",
      "                    Time Day_of_week Age_band_of_driver Sex_of_driver  \\\n",
      "3692 1900-01-01 17:35:00    Saturday              31-50          Male   \n",
      "3693 1900-01-01 17:35:00    Saturday              31-50          Male   \n",
      "3694 1900-01-01 17:35:00    Saturday              31-50          Male   \n",
      "3695 1900-01-01 17:35:00    Saturday              31-50          Male   \n",
      "3696 1900-01-01 17:35:00    Saturday              31-50          Male   \n",
      "3697 1900-01-01 17:35:00    Saturday              18-30          Male   \n",
      "3698 1900-01-01 17:35:00    Saturday              18-30          Male   \n",
      "3699 1900-01-01 17:35:00    Saturday              18-30          Male   \n",
      "\n",
      "       Educational_level Vehicle_driver_relation Driving_experience  \\\n",
      "3692  Junior high school                Employee          Below 1yr   \n",
      "3693  Junior high school                Employee              1-2yr   \n",
      "3694   Elementary school                Employee              2-5yr   \n",
      "3695         High school                Employee              1-2yr   \n",
      "3696  Junior high school                Employee             5-10yr   \n",
      "3697  Junior high school                Employee          Below 1yr   \n",
      "3698         High school                Employee         Above 10yr   \n",
      "3699   Elementary school                   Owner             5-10yr   \n",
      "\n",
      "          Type_of_vehicle Owner_of_vehicle Service_year_of_vehicle  ...  \\\n",
      "3692           Automobile            Owner                 Unknown  ...   \n",
      "3693  Public (> 45 seats)            Owner                 Unknown  ...   \n",
      "3694       Lorry (11?40Q)            Owner                 Unknown  ...   \n",
      "3695      Lorry (41?100Q)            Owner                 Unknown  ...   \n",
      "3696      Lorry (41?100Q)            Owner                 Unknown  ...   \n",
      "3697         Stationwagen            Owner                 Unknown  ...   \n",
      "3698                Other            Owner                 Unknown  ...   \n",
      "3699           Automobile            Owner                 Unknown  ...   \n",
      "\n",
      "       Casualty_class Sex_of_casualty Age_band_of_casualty Casualty_severity  \\\n",
      "3692  Driver or rider            Male                31-50                 3   \n",
      "3693               na              na                   na                na   \n",
      "3694  Driver or rider            Male                31-50                 3   \n",
      "3695  Driver or rider            Male                18-30                 3   \n",
      "3696       Pedestrian          Female             Under 18                 3   \n",
      "3697               na              na                   na                na   \n",
      "3698  Driver or rider            Male                18-30                 3   \n",
      "3699  Driver or rider            Male                18-30                 3   \n",
      "\n",
      "     Work_of_casuality Fitness_of_casuality Pedestrian_movement  \\\n",
      "3692     Self-employed               Normal    Not a Pedestrian   \n",
      "3693            Driver               Normal    Not a Pedestrian   \n",
      "3694            Driver               Normal    Not a Pedestrian   \n",
      "3695            Driver               Normal    Not a Pedestrian   \n",
      "3696            Driver               Normal    Not a Pedestrian   \n",
      "3697            Driver               Normal    Not a Pedestrian   \n",
      "3698            Driver               Normal    Not a Pedestrian   \n",
      "3699            Driver               Normal    Not a Pedestrian   \n",
      "\n",
      "               Cause_of_accident Accident_severity Hour  \n",
      "3692             Moving Backward     Slight Injury   17  \n",
      "3693               No distancing     Slight Injury   17  \n",
      "3694  Changing lane to the right     Slight Injury   17  \n",
      "3695             Moving Backward     Slight Injury   17  \n",
      "3696               No distancing     Slight Injury   17  \n",
      "3697         Driving to the left     Slight Injury   17  \n",
      "3698         Driving to the left     Slight Injury   17  \n",
      "3699             Moving Backward     Slight Injury   17  \n",
      "\n",
      "[8 rows x 33 columns]\n"
     ]
    }
   ],
   "source": [
    "# Query 6: Accidents with the highest number of casualties\n",
    "if 'Number_of_casualties' in df.columns:\n",
    "    max_casualties_accident = df[df['Number_of_casualties'] == df['Number_of_casualties'].max()]\n",
    "    print(\"\\nAccident with the highest number of casualties:\")\n",
    "    print(max_casualties_accident)"
   ]
  },
  {
   "cell_type": "code",
   "execution_count": 30,
   "id": "ef5f4598",
   "metadata": {},
   "outputs": [
    {
     "name": "stdout",
     "output_type": "stream",
     "text": [
      "\n",
      "Number of accidents during peak hours (8 AM - 10 AM and 5 PM - 7 PM):\n",
      "4779\n"
     ]
    }
   ],
   "source": []
  },
  {
   "cell_type": "code",
   "execution_count": 15,
   "id": "7510a4f4",
   "metadata": {},
   "outputs": [
    {
     "name": "stdout",
     "output_type": "stream",
     "text": [
      "\n",
      "Cleaned dataset saved to 'cleaned_road_traffic_accidents.csv'.\n"
     ]
    }
   ],
   "source": [
    "# Save the cleaned dataset to a new CSV file\n",
    "df.to_csv('cleaned_road_traffic_accidents.csv', index=False)\n",
    "print(\"\\nCleaned dataset saved to 'cleaned_road_traffic_accidents.csv'.\")"
   ]
  },
  {
   "cell_type": "code",
   "execution_count": 16,
   "id": "c1fca210",
   "metadata": {},
   "outputs": [],
   "source": [
    "# Data Visualization\n",
    "# Set the style for seaborn\n",
    "sns.set(style=\"whitegrid\")"
   ]
  },
  {
   "cell_type": "code",
   "execution_count": 17,
   "id": "5d089e65",
   "metadata": {},
   "outputs": [
    {
     "data": {
      "image/png": "[encoded data removed]",
      "text/plain": [
       "<Figure size 1200x600 with 1 Axes>"
      ]
     },
     "metadata": {},
     "output_type": "display_data"
    }
   ],
   "source": [
    "# 1. Distribution of accidents by time of day\n",
    "plt.figure(figsize=(12, 6))\n",
    "sns.histplot(df['Hour'], bins=24, kde=True, color='blue')\n",
    "plt.title('Distribution of Accidents by Time of Day', fontsize=16)\n",
    "plt.xlabel('Hour of the Day', fontsize=14)\n",
    "plt.ylabel('Frequency', fontsize=14)\n",
    "plt.grid(True)\n",
    "plt.show()"
   ]
  },
  {
   "cell_type": "code",
   "execution_count": 38,
   "id": "b4d41d53",
   "metadata": {},
   "outputs": [
    {
     "data": {
      "image/png": "[encoded data removed]",
      "text/plain": [
       "<Figure size 1200x600 with 1 Axes>"
      ]
     },
     "metadata": {},
     "output_type": "display_data"
    }
   ],
   "source": [
    "# 2. Distribution of accidents by day of the week\n",
    "plt.figure(figsize=(12, 6))\n",
    "sns.countplot(x='Day_of_week', data=df, palette='viridis', order=df['Day_of_week'].value_counts().index)\n",
    "plt.title('Distribution of Accidents by Day of the Week', fontsize=16)\n",
    "plt.xlabel('Day of the Week', fontsize=14)\n",
    "plt.ylabel('Count', fontsize=14)\n",
    "plt.grid(True)\n",
    "plt.show()"
   ]
  },
  {
   "cell_type": "code",
   "execution_count": 40,
   "id": "80a873e6",
   "metadata": {},
   "outputs": [
    {
     "data": {
      "image/png": "[encoded data removed]",
      "text/plain": [
       "<Figure size 1200x600 with 1 Axes>"
      ]
     },
     "metadata": {},
     "output_type": "display_data"
    }
   ],
   "source": [
    "# 3. Distribution of accidents by weather conditions\n",
    "plt.figure(figsize=(12, 6))\n",
    "sns.countplot(x='Weather_conditions', data=df, palette='magma', order=df['Weather_conditions'].value_counts().index)\n",
    "plt.title('Distribution of Accidents by Weather Conditions', fontsize=16)\n",
    "plt.xlabel('Weather Conditions', fontsize=14)\n",
    "plt.ylabel('Count', fontsize=14)\n",
    "plt.xticks(rotation=45)\n",
    "plt.grid(True)\n",
    "plt.show()"
   ]
  },
  {
   "cell_type": "code",
   "execution_count": 41,
   "id": "251d84f6",
   "metadata": {},
   "outputs": [
    {
     "ename": "ValueError",
     "evalue": "could not convert string to float: 'Slight Injury'",
     "output_type": "error",
     "traceback": [
      "\u001b[1;31m---------------------------------------------------------------------------\u001b[0m",
      "\u001b[1;31mValueError\u001b[0m                                Traceback (most recent call last)",
      "Cell \u001b[1;32mIn[41], line 3\u001b[0m\n\u001b[0;32m      1\u001b[0m \u001b[38;5;66;03m# 4. Correlation heatmap of numerical variables\u001b[39;00m\n\u001b[0;32m      2\u001b[0m plt\u001b[38;5;241m.\u001b[39mfigure(figsize\u001b[38;5;241m=\u001b[39m(\u001b[38;5;241m12\u001b[39m, \u001b[38;5;241m6\u001b[39m))\n\u001b[1;32m----> 3\u001b[0m sns\u001b[38;5;241m.\u001b[39mheatmap(df\u001b[38;5;241m.\u001b[39mcorr(), annot\u001b[38;5;241m=\u001b[39m\u001b[38;5;28;01mTrue\u001b[39;00m, cmap\u001b[38;5;241m=\u001b[39m\u001b[38;5;124m'\u001b[39m\u001b[38;5;124mcoolwarm\u001b[39m\u001b[38;5;124m'\u001b[39m)\n\u001b[0;32m      4\u001b[0m plt\u001b[38;5;241m.\u001b[39mtitle(\u001b[38;5;124m'\u001b[39m\u001b[38;5;124mCorrelation Heatmap of Numerical Variables\u001b[39m\u001b[38;5;124m'\u001b[39m, fontsize\u001b[38;5;241m=\u001b[39m\u001b[38;5;241m16\u001b[39m)\n\u001b[0;32m      5\u001b[0m plt\u001b[38;5;241m.\u001b[39mshow()\n",
      "File \u001b[1;32mD:\\nlp Anaconda\\Lib\\site-packages\\pandas\\core\\frame.py:10054\u001b[0m, in \u001b[0;36mDataFrame.corr\u001b[1;34m(self, method, min_periods, numeric_only)\u001b[0m\n\u001b[0;32m  10052\u001b[0m cols \u001b[38;5;241m=\u001b[39m data\u001b[38;5;241m.\u001b[39mcolumns\n\u001b[0;32m  10053\u001b[0m idx \u001b[38;5;241m=\u001b[39m cols\u001b[38;5;241m.\u001b[39mcopy()\n\u001b[1;32m> 10054\u001b[0m mat \u001b[38;5;241m=\u001b[39m data\u001b[38;5;241m.\u001b[39mto_numpy(dtype\u001b[38;5;241m=\u001b[39m\u001b[38;5;28mfloat\u001b[39m, na_value\u001b[38;5;241m=\u001b[39mnp\u001b[38;5;241m.\u001b[39mnan, copy\u001b[38;5;241m=\u001b[39m\u001b[38;5;28;01mFalse\u001b[39;00m)\n\u001b[0;32m  10056\u001b[0m \u001b[38;5;28;01mif\u001b[39;00m method \u001b[38;5;241m==\u001b[39m \u001b[38;5;124m\"\u001b[39m\u001b[38;5;124mpearson\u001b[39m\u001b[38;5;124m\"\u001b[39m:\n\u001b[0;32m  10057\u001b[0m     correl \u001b[38;5;241m=\u001b[39m libalgos\u001b[38;5;241m.\u001b[39mnancorr(mat, minp\u001b[38;5;241m=\u001b[39mmin_periods)\n",
      "File \u001b[1;32mD:\\nlp Anaconda\\Lib\\site-packages\\pandas\\core\\frame.py:1838\u001b[0m, in \u001b[0;36mDataFrame.to_numpy\u001b[1;34m(self, dtype, copy, na_value)\u001b[0m\n\u001b[0;32m   1836\u001b[0m \u001b[38;5;28;01mif\u001b[39;00m dtype \u001b[38;5;129;01mis\u001b[39;00m \u001b[38;5;129;01mnot\u001b[39;00m \u001b[38;5;28;01mNone\u001b[39;00m:\n\u001b[0;32m   1837\u001b[0m     dtype \u001b[38;5;241m=\u001b[39m np\u001b[38;5;241m.\u001b[39mdtype(dtype)\n\u001b[1;32m-> 1838\u001b[0m result \u001b[38;5;241m=\u001b[39m \u001b[38;5;28mself\u001b[39m\u001b[38;5;241m.\u001b[39m_mgr\u001b[38;5;241m.\u001b[39mas_array(dtype\u001b[38;5;241m=\u001b[39mdtype, copy\u001b[38;5;241m=\u001b[39mcopy, na_value\u001b[38;5;241m=\u001b[39mna_value)\n\u001b[0;32m   1839\u001b[0m \u001b[38;5;28;01mif\u001b[39;00m result\u001b[38;5;241m.\u001b[39mdtype \u001b[38;5;129;01mis\u001b[39;00m \u001b[38;5;129;01mnot\u001b[39;00m dtype:\n\u001b[0;32m   1840\u001b[0m     result \u001b[38;5;241m=\u001b[39m np\u001b[38;5;241m.\u001b[39marray(result, dtype\u001b[38;5;241m=\u001b[39mdtype, copy\u001b[38;5;241m=\u001b[39m\u001b[38;5;28;01mFalse\u001b[39;00m)\n",
      "File \u001b[1;32mD:\\nlp Anaconda\\Lib\\site-packages\\pandas\\core\\internals\\managers.py:1732\u001b[0m, in \u001b[0;36mBlockManager.as_array\u001b[1;34m(self, dtype, copy, na_value)\u001b[0m\n\u001b[0;32m   1730\u001b[0m         arr\u001b[38;5;241m.\u001b[39mflags\u001b[38;5;241m.\u001b[39mwriteable \u001b[38;5;241m=\u001b[39m \u001b[38;5;28;01mFalse\u001b[39;00m\n\u001b[0;32m   1731\u001b[0m \u001b[38;5;28;01melse\u001b[39;00m:\n\u001b[1;32m-> 1732\u001b[0m     arr \u001b[38;5;241m=\u001b[39m \u001b[38;5;28mself\u001b[39m\u001b[38;5;241m.\u001b[39m_interleave(dtype\u001b[38;5;241m=\u001b[39mdtype, na_value\u001b[38;5;241m=\u001b[39mna_value)\n\u001b[0;32m   1733\u001b[0m     \u001b[38;5;66;03m# The underlying data was copied within _interleave, so no need\u001b[39;00m\n\u001b[0;32m   1734\u001b[0m     \u001b[38;5;66;03m# to further copy if copy=True or setting na_value\u001b[39;00m\n\u001b[0;32m   1736\u001b[0m \u001b[38;5;28;01mif\u001b[39;00m na_value \u001b[38;5;129;01mis\u001b[39;00m \u001b[38;5;129;01mnot\u001b[39;00m lib\u001b[38;5;241m.\u001b[39mno_default:\n",
      "File \u001b[1;32mD:\\nlp Anaconda\\Lib\\site-packages\\pandas\\core\\internals\\managers.py:1794\u001b[0m, in \u001b[0;36mBlockManager._interleave\u001b[1;34m(self, dtype, na_value)\u001b[0m\n\u001b[0;32m   1792\u001b[0m     \u001b[38;5;28;01melse\u001b[39;00m:\n\u001b[0;32m   1793\u001b[0m         arr \u001b[38;5;241m=\u001b[39m blk\u001b[38;5;241m.\u001b[39mget_values(dtype)\n\u001b[1;32m-> 1794\u001b[0m     result[rl\u001b[38;5;241m.\u001b[39mindexer] \u001b[38;5;241m=\u001b[39m arr\n\u001b[0;32m   1795\u001b[0m     itemmask[rl\u001b[38;5;241m.\u001b[39mindexer] \u001b[38;5;241m=\u001b[39m \u001b[38;5;241m1\u001b[39m\n\u001b[0;32m   1797\u001b[0m \u001b[38;5;28;01mif\u001b[39;00m \u001b[38;5;129;01mnot\u001b[39;00m itemmask\u001b[38;5;241m.\u001b[39mall():\n",
      "\u001b[1;31mValueError\u001b[0m: could not convert string to float: 'Slight Injury'"
     ]
    },
    {
     "data": {
      "text/plain": [
       "<Figure size 1200x600 with 0 Axes>"
      ]
     },
     "metadata": {},
     "output_type": "display_data"
    }
   ],
   "source": [
    "\n",
    "# 4. Correlation heatmap of numerical variables\n",
    "plt.figure(figsize=(12, 6))\n",
    "sns.heatmap(df.corr(), annot=True, cmap='coolwarm')\n",
    "plt.title('Correlation Heatmap of Numerical Variables', fontsize=16)\n",
    "plt.show()"
   ]
  },
  {
   "cell_type": "code",
   "execution_count": 42,
   "id": "d183637f",
   "metadata": {},
   "outputs": [
    {
     "ename": "ValueError",
     "evalue": "Could not interpret input 'Road_Type'",
     "output_type": "error",
     "traceback": [
      "\u001b[1;31m---------------------------------------------------------------------------\u001b[0m",
      "\u001b[1;31mValueError\u001b[0m                                Traceback (most recent call last)",
      "Cell \u001b[1;32mIn[42], line 3\u001b[0m\n\u001b[0;32m      1\u001b[0m \u001b[38;5;66;03m# 5. Box plot of accidents by road type\u001b[39;00m\n\u001b[0;32m      2\u001b[0m plt\u001b[38;5;241m.\u001b[39mfigure(figsize\u001b[38;5;241m=\u001b[39m(\u001b[38;5;241m12\u001b[39m, \u001b[38;5;241m6\u001b[39m))\n\u001b[1;32m----> 3\u001b[0m sns\u001b[38;5;241m.\u001b[39mboxplot(x\u001b[38;5;241m=\u001b[39m\u001b[38;5;124m'\u001b[39m\u001b[38;5;124mRoad_Type\u001b[39m\u001b[38;5;124m'\u001b[39m, y\u001b[38;5;241m=\u001b[39m\u001b[38;5;124m'\u001b[39m\u001b[38;5;124mNumber_of_Casualties\u001b[39m\u001b[38;5;124m'\u001b[39m, data\u001b[38;5;241m=\u001b[39mdf, palette\u001b[38;5;241m=\u001b[39m\u001b[38;5;124m'\u001b[39m\u001b[38;5;124mSet2\u001b[39m\u001b[38;5;124m'\u001b[39m)\n\u001b[0;32m      4\u001b[0m plt\u001b[38;5;241m.\u001b[39mtitle(\u001b[38;5;124m'\u001b[39m\u001b[38;5;124mBox Plot of Accidents by Road Type\u001b[39m\u001b[38;5;124m'\u001b[39m, fontsize\u001b[38;5;241m=\u001b[39m\u001b[38;5;241m16\u001b[39m)\n\u001b[0;32m      5\u001b[0m plt\u001b[38;5;241m.\u001b[39mxlabel(\u001b[38;5;124m'\u001b[39m\u001b[38;5;124mRoad Type\u001b[39m\u001b[38;5;124m'\u001b[39m, fontsize\u001b[38;5;241m=\u001b[39m\u001b[38;5;241m14\u001b[39m)\n",
      "File \u001b[1;32mD:\\nlp Anaconda\\Lib\\site-packages\\seaborn\\categorical.py:2231\u001b[0m, in \u001b[0;36mboxplot\u001b[1;34m(data, x, y, hue, order, hue_order, orient, color, palette, saturation, width, dodge, fliersize, linewidth, whis, ax, **kwargs)\u001b[0m\n\u001b[0;32m   2224\u001b[0m \u001b[38;5;28;01mdef\u001b[39;00m \u001b[38;5;21mboxplot\u001b[39m(\n\u001b[0;32m   2225\u001b[0m     data\u001b[38;5;241m=\u001b[39m\u001b[38;5;28;01mNone\u001b[39;00m, \u001b[38;5;241m*\u001b[39m, x\u001b[38;5;241m=\u001b[39m\u001b[38;5;28;01mNone\u001b[39;00m, y\u001b[38;5;241m=\u001b[39m\u001b[38;5;28;01mNone\u001b[39;00m, hue\u001b[38;5;241m=\u001b[39m\u001b[38;5;28;01mNone\u001b[39;00m, order\u001b[38;5;241m=\u001b[39m\u001b[38;5;28;01mNone\u001b[39;00m, hue_order\u001b[38;5;241m=\u001b[39m\u001b[38;5;28;01mNone\u001b[39;00m,\n\u001b[0;32m   2226\u001b[0m     orient\u001b[38;5;241m=\u001b[39m\u001b[38;5;28;01mNone\u001b[39;00m, color\u001b[38;5;241m=\u001b[39m\u001b[38;5;28;01mNone\u001b[39;00m, palette\u001b[38;5;241m=\u001b[39m\u001b[38;5;28;01mNone\u001b[39;00m, saturation\u001b[38;5;241m=\u001b[39m\u001b[38;5;241m.75\u001b[39m, width\u001b[38;5;241m=\u001b[39m\u001b[38;5;241m.8\u001b[39m,\n\u001b[0;32m   2227\u001b[0m     dodge\u001b[38;5;241m=\u001b[39m\u001b[38;5;28;01mTrue\u001b[39;00m, fliersize\u001b[38;5;241m=\u001b[39m\u001b[38;5;241m5\u001b[39m, linewidth\u001b[38;5;241m=\u001b[39m\u001b[38;5;28;01mNone\u001b[39;00m, whis\u001b[38;5;241m=\u001b[39m\u001b[38;5;241m1.5\u001b[39m, ax\u001b[38;5;241m=\u001b[39m\u001b[38;5;28;01mNone\u001b[39;00m,\n\u001b[0;32m   2228\u001b[0m     \u001b[38;5;241m*\u001b[39m\u001b[38;5;241m*\u001b[39mkwargs\n\u001b[0;32m   2229\u001b[0m ):\n\u001b[1;32m-> 2231\u001b[0m     plotter \u001b[38;5;241m=\u001b[39m _BoxPlotter(x, y, hue, data, order, hue_order,\n\u001b[0;32m   2232\u001b[0m                           orient, color, palette, saturation,\n\u001b[0;32m   2233\u001b[0m                           width, dodge, fliersize, linewidth)\n\u001b[0;32m   2235\u001b[0m     \u001b[38;5;28;01mif\u001b[39;00m ax \u001b[38;5;129;01mis\u001b[39;00m \u001b[38;5;28;01mNone\u001b[39;00m:\n\u001b[0;32m   2236\u001b[0m         ax \u001b[38;5;241m=\u001b[39m plt\u001b[38;5;241m.\u001b[39mgca()\n",
      "File \u001b[1;32mD:\\nlp Anaconda\\Lib\\site-packages\\seaborn\\categorical.py:785\u001b[0m, in \u001b[0;36m_BoxPlotter.__init__\u001b[1;34m(self, x, y, hue, data, order, hue_order, orient, color, palette, saturation, width, dodge, fliersize, linewidth)\u001b[0m\n\u001b[0;32m    781\u001b[0m \u001b[38;5;28;01mdef\u001b[39;00m \u001b[38;5;21m__init__\u001b[39m(\u001b[38;5;28mself\u001b[39m, x, y, hue, data, order, hue_order,\n\u001b[0;32m    782\u001b[0m              orient, color, palette, saturation,\n\u001b[0;32m    783\u001b[0m              width, dodge, fliersize, linewidth):\n\u001b[1;32m--> 785\u001b[0m     \u001b[38;5;28mself\u001b[39m\u001b[38;5;241m.\u001b[39mestablish_variables(x, y, hue, data, orient, order, hue_order)\n\u001b[0;32m    786\u001b[0m     \u001b[38;5;28mself\u001b[39m\u001b[38;5;241m.\u001b[39mestablish_colors(color, palette, saturation)\n\u001b[0;32m    788\u001b[0m     \u001b[38;5;28mself\u001b[39m\u001b[38;5;241m.\u001b[39mdodge \u001b[38;5;241m=\u001b[39m dodge\n",
      "File \u001b[1;32mD:\\nlp Anaconda\\Lib\\site-packages\\seaborn\\categorical.py:541\u001b[0m, in \u001b[0;36m_CategoricalPlotter.establish_variables\u001b[1;34m(self, x, y, hue, data, orient, order, hue_order, units)\u001b[0m\n\u001b[0;32m    539\u001b[0m     \u001b[38;5;28;01mif\u001b[39;00m \u001b[38;5;28misinstance\u001b[39m(var, \u001b[38;5;28mstr\u001b[39m):\n\u001b[0;32m    540\u001b[0m         err \u001b[38;5;241m=\u001b[39m \u001b[38;5;124mf\u001b[39m\u001b[38;5;124m\"\u001b[39m\u001b[38;5;124mCould not interpret input \u001b[39m\u001b[38;5;124m'\u001b[39m\u001b[38;5;132;01m{\u001b[39;00mvar\u001b[38;5;132;01m}\u001b[39;00m\u001b[38;5;124m'\u001b[39m\u001b[38;5;124m\"\u001b[39m\n\u001b[1;32m--> 541\u001b[0m         \u001b[38;5;28;01mraise\u001b[39;00m \u001b[38;5;167;01mValueError\u001b[39;00m(err)\n\u001b[0;32m    543\u001b[0m \u001b[38;5;66;03m# Figure out the plotting orientation\u001b[39;00m\n\u001b[0;32m    544\u001b[0m orient \u001b[38;5;241m=\u001b[39m infer_orient(\n\u001b[0;32m    545\u001b[0m     x, y, orient, require_numeric\u001b[38;5;241m=\u001b[39m\u001b[38;5;28mself\u001b[39m\u001b[38;5;241m.\u001b[39mrequire_numeric\n\u001b[0;32m    546\u001b[0m )\n",
      "\u001b[1;31mValueError\u001b[0m: Could not interpret input 'Road_Type'"
     ]
    },
    {
     "data": {
      "text/plain": [
       "<Figure size 1200x600 with 0 Axes>"
      ]
     },
     "metadata": {},
     "output_type": "display_data"
    }
   ],
   "source": [
    "# 5. Box plot of accidents by road type\n",
    "plt.figure(figsize=(12, 6))\n",
    "sns.boxplot(x='Road_Type', y='Number_of_Casualties', data=df, palette='Set2')\n",
    "plt.title('Box Plot of Accidents by Road Type', fontsize=16)\n",
    "plt.xlabel('Road Type', fontsize=14)\n",
    "plt.ylabel('Number of Casualties', fontsize=14)\n",
    "plt.grid(True)\n",
    "plt.show()"
   ]
  },
  {
   "cell_type": "code",
   "execution_count": null,
   "id": "54a88e3c",
   "metadata": {},
   "outputs": [],
   "source": []
  },
  {
   "cell_type": "code",
   "execution_count": null,
   "id": "d61bc3ce",
   "metadata": {},
   "outputs": [],
   "source": [
    "# 6. Scatter plot of accidents by location\n",
    "plt.figure(figsize=(12, 6))\n",
    "sns.scatterplot(x='Longitude', y='Latitude', hue='Accident_Severity', data=df, palette='viridis')\n",
    "plt.title('Scatter Plot of Accidents by Location', fontsize=16)\n",
    "plt.xlabel('Longitude', fontsize=14)\n",
    "plt.ylabel('Latitude', fontsize=14)\n",
    "plt.grid(True)\n",
    "plt.show()"
   ]
  }
 ],
 "metadata": {
  "kernelspec": {
   "display_name": "Python 3 (ipykernel)",
   "language": "python",
   "name": "python3"
  },
  "language_info": {
   "codemirror_mode": {
    "name": "ipython",
    "version": 3
   },
   "file_extension": ".py",
   "mimetype": "text/x-python",
   "name": "python",
   "nbconvert_exporter": "python",
   "pygments_lexer": "ipython3",
   "version": "3.11.5"
  }
 },
 "nbformat": 4,
 "nbformat_minor": 5
}
